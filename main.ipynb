{
 "cells": [
  {
   "cell_type": "markdown",
   "metadata": {},
   "source": [
    "# Modules"
   ]
  },
  {
   "cell_type": "code",
   "execution_count": 6,
   "metadata": {},
   "outputs": [],
   "source": [
    "from data_collector import collector"
   ]
  },
  {
   "cell_type": "markdown",
   "metadata": {},
   "source": [
    "# Data"
   ]
  },
  {
   "cell_type": "code",
   "execution_count": 7,
   "metadata": {},
   "outputs": [],
   "source": [
    "symbols = ['BTC', 'ETH', 'EOS', 'LTC', 'DASH', 'XRP', 'BCH', 'TRX', 'ADA', 'NEO', 'HT', 'IOT']\n",
    "freq = 'minute'"
   ]
  },
  {
   "cell_type": "code",
   "execution_count": 8,
   "metadata": {},
   "outputs": [
    {
     "data": {
      "text/html": [
       "<div>\n",
       "<style scoped>\n",
       "    .dataframe tbody tr th:only-of-type {\n",
       "        vertical-align: middle;\n",
       "    }\n",
       "\n",
       "    .dataframe tbody tr th {\n",
       "        vertical-align: top;\n",
       "    }\n",
       "\n",
       "    .dataframe thead th {\n",
       "        text-align: right;\n",
       "    }\n",
       "</style>\n",
       "<table border=\"1\" class=\"dataframe\">\n",
       "  <thead>\n",
       "    <tr style=\"text-align: right;\">\n",
       "      <th></th>\n",
       "      <th>BTC</th>\n",
       "      <th>ETH</th>\n",
       "      <th>EOS</th>\n",
       "      <th>LTC</th>\n",
       "      <th>DASH</th>\n",
       "      <th>XRP</th>\n",
       "      <th>BCH</th>\n",
       "      <th>TRX</th>\n",
       "      <th>ADA</th>\n",
       "      <th>NEO</th>\n",
       "      <th>HT</th>\n",
       "      <th>IOT</th>\n",
       "    </tr>\n",
       "    <tr>\n",
       "      <th>time</th>\n",
       "      <th></th>\n",
       "      <th></th>\n",
       "      <th></th>\n",
       "      <th></th>\n",
       "      <th></th>\n",
       "      <th></th>\n",
       "      <th></th>\n",
       "      <th></th>\n",
       "      <th></th>\n",
       "      <th></th>\n",
       "      <th></th>\n",
       "      <th></th>\n",
       "    </tr>\n",
       "  </thead>\n",
       "  <tbody>\n",
       "    <tr>\n",
       "      <th>2018-05-27 08:37:00</th>\n",
       "      <td>7315.99</td>\n",
       "      <td>583.04</td>\n",
       "      <td>12.15</td>\n",
       "      <td>117.31</td>\n",
       "      <td>317.19</td>\n",
       "      <td>0.5995</td>\n",
       "      <td>987.81</td>\n",
       "      <td>0.07125</td>\n",
       "      <td>0.1937</td>\n",
       "      <td>51.46</td>\n",
       "      <td>3.73</td>\n",
       "      <td>1.44</td>\n",
       "    </tr>\n",
       "    <tr>\n",
       "      <th>2018-05-27 08:38:00</th>\n",
       "      <td>7327.81</td>\n",
       "      <td>583.07</td>\n",
       "      <td>12.16</td>\n",
       "      <td>117.34</td>\n",
       "      <td>317.17</td>\n",
       "      <td>0.5995</td>\n",
       "      <td>989.44</td>\n",
       "      <td>0.07128</td>\n",
       "      <td>0.1937</td>\n",
       "      <td>51.46</td>\n",
       "      <td>3.72</td>\n",
       "      <td>1.44</td>\n",
       "    </tr>\n",
       "    <tr>\n",
       "      <th>2018-05-27 08:39:00</th>\n",
       "      <td>7327.92</td>\n",
       "      <td>583.08</td>\n",
       "      <td>12.16</td>\n",
       "      <td>117.34</td>\n",
       "      <td>317.28</td>\n",
       "      <td>0.5994</td>\n",
       "      <td>988.89</td>\n",
       "      <td>0.07128</td>\n",
       "      <td>0.1937</td>\n",
       "      <td>51.46</td>\n",
       "      <td>3.72</td>\n",
       "      <td>1.44</td>\n",
       "    </tr>\n",
       "    <tr>\n",
       "      <th>2018-05-27 08:40:00</th>\n",
       "      <td>7326.96</td>\n",
       "      <td>582.98</td>\n",
       "      <td>12.17</td>\n",
       "      <td>117.35</td>\n",
       "      <td>316.96</td>\n",
       "      <td>0.5994</td>\n",
       "      <td>989.60</td>\n",
       "      <td>0.07130</td>\n",
       "      <td>0.1937</td>\n",
       "      <td>51.41</td>\n",
       "      <td>3.72</td>\n",
       "      <td>1.44</td>\n",
       "    </tr>\n",
       "    <tr>\n",
       "      <th>2018-05-27 08:41:00</th>\n",
       "      <td>7322.65</td>\n",
       "      <td>582.96</td>\n",
       "      <td>12.16</td>\n",
       "      <td>117.35</td>\n",
       "      <td>316.87</td>\n",
       "      <td>0.5994</td>\n",
       "      <td>987.41</td>\n",
       "      <td>0.07129</td>\n",
       "      <td>0.1937</td>\n",
       "      <td>51.42</td>\n",
       "      <td>3.72</td>\n",
       "      <td>1.44</td>\n",
       "    </tr>\n",
       "  </tbody>\n",
       "</table>\n",
       "</div>"
      ],
      "text/plain": [
       "                         BTC     ETH    EOS     LTC    DASH     XRP     BCH  \\\n",
       "time                                                                          \n",
       "2018-05-27 08:37:00  7315.99  583.04  12.15  117.31  317.19  0.5995  987.81   \n",
       "2018-05-27 08:38:00  7327.81  583.07  12.16  117.34  317.17  0.5995  989.44   \n",
       "2018-05-27 08:39:00  7327.92  583.08  12.16  117.34  317.28  0.5994  988.89   \n",
       "2018-05-27 08:40:00  7326.96  582.98  12.17  117.35  316.96  0.5994  989.60   \n",
       "2018-05-27 08:41:00  7322.65  582.96  12.16  117.35  316.87  0.5994  987.41   \n",
       "\n",
       "                         TRX     ADA    NEO    HT   IOT  \n",
       "time                                                     \n",
       "2018-05-27 08:37:00  0.07125  0.1937  51.46  3.73  1.44  \n",
       "2018-05-27 08:38:00  0.07128  0.1937  51.46  3.72  1.44  \n",
       "2018-05-27 08:39:00  0.07128  0.1937  51.46  3.72  1.44  \n",
       "2018-05-27 08:40:00  0.07130  0.1937  51.41  3.72  1.44  \n",
       "2018-05-27 08:41:00  0.07129  0.1937  51.42  3.72  1.44  "
      ]
     },
     "execution_count": 8,
     "metadata": {},
     "output_type": "execute_result"
    }
   ],
   "source": [
    "data = collector(freq, symbols)\n",
    "data.head()"
   ]
  },
  {
   "cell_type": "code",
   "execution_count": null,
   "metadata": {},
   "outputs": [],
   "source": []
  }
 ],
 "metadata": {
  "kernelspec": {
   "display_name": "Python 3",
   "language": "python",
   "name": "python3"
  },
  "language_info": {
   "codemirror_mode": {
    "name": "ipython",
    "version": 3
   },
   "file_extension": ".py",
   "mimetype": "text/x-python",
   "name": "python",
   "nbconvert_exporter": "python",
   "pygments_lexer": "ipython3",
   "version": "3.6.4"
  }
 },
 "nbformat": 4,
 "nbformat_minor": 2
}
